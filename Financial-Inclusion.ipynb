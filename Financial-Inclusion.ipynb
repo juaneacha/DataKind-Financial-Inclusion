{
 "cells": [
  {
   "cell_type": "code",
   "execution_count": 238,
   "id": "784644f5-7322-47cd-985e-91fe8546d7af",
   "metadata": {},
   "outputs": [],
   "source": [
    "import pandas as pd\n",
    "import numpy as np\n",
    "import matplotlib.pyplot as plt\n",
    "import seaborn as sns"
   ]
  },
  {
   "cell_type": "code",
   "execution_count": 239,
   "id": "2f6e6754-2a96-4c28-a7e7-ba28012c72ad",
   "metadata": {},
   "outputs": [
    {
     "name": "stderr",
     "output_type": "stream",
     "text": [
      "C:\\Users\\juane\\AppData\\Local\\Temp\\ipykernel_37348\\1219318043.py:2: DtypeWarning: Columns (16,18,173,178) have mixed types. Specify dtype option on import or set low_memory=False.\n",
      "  df = pd.read_csv('DANE_data.csv')\n"
     ]
    },
    {
     "data": {
      "text/plain": [
       "(830743, 16)"
      ]
     },
     "execution_count": 239,
     "metadata": {},
     "output_type": "execute_result"
    }
   ],
   "source": [
    "# Load dataset\n",
    "df = pd.read_csv('DANE_data.csv')\n",
    "df = df[['Uses checking account', 'Uses savings account', 'Uses CDT',\n",
    "          'Uses home purchase loan', 'Uses vehicle purchase loan',\n",
    "          'Uses free investment loan', 'Uses credit card',\n",
    "          'Uses other financial product','CLASE', 'Age', \n",
    "          'Household role', 'Region', 'Gender', 'Highest educational level achieved',\n",
    "          'total_labor_income', 'Owns real estate property']]\n",
    "df.shape"
   ]
  },
  {
   "cell_type": "code",
   "execution_count": 240,
   "id": "bfcc3b11",
   "metadata": {},
   "outputs": [
    {
     "name": "stdout",
     "output_type": "stream",
     "text": [
      "Uses checking account\n",
      "NaN    827602\n",
      "Yes      3141\n",
      "Name: count, dtype: int64\n",
      "\n",
      "Uses savings account\n",
      "NaN    637229\n",
      "Yes    193514\n",
      "Name: count, dtype: int64\n",
      "\n",
      "Uses CDT\n",
      "NaN    829176\n",
      "Yes      1567\n",
      "Name: count, dtype: int64\n",
      "\n",
      "Uses home purchase loan\n",
      "NaN    823149\n",
      "Yes      7594\n",
      "Name: count, dtype: int64\n",
      "\n",
      "Uses vehicle purchase loan\n",
      "NaN    828637\n",
      "Yes      2106\n",
      "Name: count, dtype: int64\n",
      "\n",
      "Uses free investment loan\n",
      "NaN    814815\n",
      "Yes     15928\n",
      "Name: count, dtype: int64\n",
      "\n",
      "Uses credit card\n",
      "NaN    805167\n",
      "Yes     25576\n",
      "Name: count, dtype: int64\n",
      "\n",
      "Uses other financial product\n",
      "NaN    824091\n",
      "Yes      6652\n",
      "Name: count, dtype: int64\n",
      "\n",
      "CLASE\n",
      "Urban    720723\n",
      "Rural    108960\n",
      "NaN        1060\n",
      "Name: count, dtype: int64\n",
      "\n",
      "Age\n",
      "16.0     13828\n",
      "17.0     13645\n",
      "15.0     13457\n",
      "23.0     13370\n",
      "14.0     13280\n",
      "         ...  \n",
      "103.0       11\n",
      "104.0        4\n",
      "108.0        4\n",
      "107.0        3\n",
      "105.0        2\n",
      "Name: count, Length: 109, dtype: int64\n",
      "\n",
      "Household role\n",
      "Head of household                           290968\n",
      "Son/daughter, stepchild                     279342\n",
      "Partner, husband/wife, spouse, companion    138281\n",
      "Worker                                       49603\n",
      "Other non-relative                           19325\n",
      "Domestic worker and their relatives          15603\n",
      "Grandchild                                   13728\n",
      "NaN                                          11879\n",
      "Pensioner                                     8458\n",
      "Other relative                                3556\n",
      "Name: count, dtype: int64\n",
      "\n",
      "Region\n",
      "Antioquia                   48114\n",
      "Valle del Cauca             43242\n",
      "Santander                   39794\n",
      "Caldas                      38067\n",
      "Risaralda                   37524\n",
      "Bolívar                     36312\n",
      "Nariño                      36301\n",
      "Atlántico                   36173\n",
      "Magdalena                   35644\n",
      "Norte de Santander          33475\n",
      "Meta                        33164\n",
      "Sucre                       32070\n",
      "Chocó                       31346\n",
      "Quindío                     30388\n",
      "Cesar                       30333\n",
      "La Guajira                  30273\n",
      "Huila                       30243\n",
      "Cauca                       28936\n",
      "Caquetá                     28634\n",
      "Córdoba                     27697\n",
      "Boyacá                      27645\n",
      "Bogotá D.C.                 27010\n",
      "Tolima                      26390\n",
      "Cundinamarca                16135\n",
      "San Andrés y Providencia     8488\n",
      "Vaupés                       5263\n",
      "Casanare                     5138\n",
      "Guainía                      5025\n",
      "Arauca                       4939\n",
      "Amazonas                     4463\n",
      "Guaviare                     4169\n",
      "Putumayo                     3956\n",
      "Vichada                      3332\n",
      "NaN                          1060\n",
      "Name: count, dtype: int64\n",
      "\n",
      "Gender\n",
      "Female    442466\n",
      "Male      387217\n",
      "NaN         1060\n",
      "Name: count, dtype: int64\n",
      "\n",
      "Highest educational level achieved\n",
      "Primary school (1st–5th)                                198736\n",
      "Academic average (classical baccalaureate)              196175\n",
      "Basic secondary education (6th–9th)                     124275\n",
      "University                                              103841\n",
      "NaN                                                      70711\n",
      "Professional technique                                   51472\n",
      "Technological                                            22829\n",
      "Preschool                                                19808\n",
      "Specialization                                           17796\n",
      "Technical secondary school (technical baccalaureate)     15020\n",
      "Master's degree                                           7702\n",
      "Normalista                                                1339\n",
      "Doctorate                                                 1016\n",
      "Does not know / No answer                                   23\n",
      "Name: count, dtype: int64\n",
      "\n",
      "total_labor_income\n",
      "NaN          492191\n",
      "1300000.0     55585\n",
      "1000000.0     15532\n",
      "1500000.0     14815\n",
      "800000.0      13599\n",
      "              ...  \n",
      "7112567.0         1\n",
      "4210000.0         1\n",
      "4086000.0         1\n",
      "2323000.0         1\n",
      "542000.0          1\n",
      "Name: count, Length: 4116, dtype: int64\n",
      "\n",
      "Owns real estate property\n",
      "No     561392\n",
      "NaN    172940\n",
      "Yes     96411\n",
      "Name: count, dtype: int64\n",
      "\n"
     ]
    }
   ],
   "source": [
    "#Answer Distribution For The Features Selected\n",
    "for col in list(df.columns):\n",
    "    print(df[col].value_counts(dropna=False))\n",
    "    print(\"\")"
   ]
  },
  {
   "cell_type": "code",
   "execution_count": 241,
   "metadata": {},
   "outputs": [],
   "source": [
    "#Impute Null Values For Financial Products\n",
    "financialProducts = ['Uses checking account', 'Uses savings account', 'Uses CDT',\n",
    "          'Uses home purchase loan', 'Uses vehicle purchase loan',\n",
    "          'Uses free investment loan', 'Uses credit card',\n",
    "          'Uses other financial product']\n",
    "\n",
    "for product in financialProducts:\n",
    "    df[product] = df[product].fillna('No')\n",
    "    #print(df[product].value_counts())\n"
   ]
  },
  {
   "cell_type": "code",
   "execution_count": null,
   "id": "d791d063",
   "metadata": {},
   "outputs": [
    {
     "name": "stdout",
     "output_type": "stream",
     "text": [
      "0\n"
     ]
    }
   ],
   "source": [
    "#Impute Null Values For The Rest of The Features\n",
    "df['CLASE'] = df['CLASE'].fillna('Urban', limit=921) #CLASE\n",
    "df['CLASE'] = df['CLASE'].fillna('Rural', limit=139)\n",
    "\n",
    "df['Household role'] = df['Household role'].fillna('Other relative') #Household Role\n",
    "\n",
    "df['Household role'] = df['Household role'].fillna('Other relative') #Household Role\n",
    "\n",
    "df['Region'] = df['Region'].fillna('Antioquia') #Region\n",
    "\n",
    "df['Gender'] = df['Gender'].fillna('Female', limit=565) #Gender\n",
    "df['Gender'] = df['Gender'].fillna('Male', limit=495)\n",
    "\n",
    "df['Highest educational level achieved'] = df['Highest educational level achieved'].fillna('Does not know / No answer') #Highest educational level achieved\n",
    "\n",
    "df['total_labor_income'] = df['total_labor_income'].fillna(0) #total_labor_income\n",
    "\n",
    "df['Owns real estate property'] = df['Owns real estate property'].fillna('No') #total_labor_income\n",
    "\n",
    "#print(df.isna().sum().sum())"
   ]
  },
  {
   "cell_type": "code",
   "execution_count": 243,
   "id": "558f9266-48dd-4479-96b2-e35263532840",
   "metadata": {},
   "outputs": [
    {
     "data": {
      "text/plain": [
       "Household role\n",
       "Head of household                           290968\n",
       "Son/daughter, stepchild                     279342\n",
       "Partner, husband/wife, spouse, companion    138281\n",
       "Worker                                       49603\n",
       "Other non-relative                           19325\n",
       "Domestic worker and their relatives          15603\n",
       "Other relative                               15435\n",
       "Grandchild                                   13728\n",
       "Pensioner                                     8458\n",
       "Name: count, dtype: int64"
      ]
     },
     "execution_count": 243,
     "metadata": {},
     "output_type": "execute_result"
    }
   ],
   "source": [
    "#Count the different number of roles \n",
    "df['Household role'].value_counts(dropna=False)"
   ]
  },
  {
   "cell_type": "code",
   "execution_count": 244,
   "id": "8d2373b3",
   "metadata": {},
   "outputs": [
    {
     "data": {
      "text/plain": [
       "(290968, 16)"
      ]
     },
     "execution_count": 244,
     "metadata": {},
     "output_type": "execute_result"
    }
   ],
   "source": [
    "#Filter Data By Head of Household\n",
    "df = df[df['Household role'] == 'Head of household']\n",
    "df.shape"
   ]
  },
  {
   "cell_type": "code",
   "execution_count": 245,
   "id": "1b36b1cc",
   "metadata": {},
   "outputs": [],
   "source": [
    "#Convert Colombia Currency to USD For Income\n",
    "income = df['total_labor_income']\n",
    "tempIncome = list()\n",
    "\n",
    "for amount in income:\n",
    "    if amount >= 0:\n",
    "        amount = amount / 4322.82\n",
    "        tempIncome.append(amount)\n",
    "    else:\n",
    "        tempIncome.append(0)\n",
    "\n",
    "df['total_labor_income'] = tempIncome"
   ]
  },
  {
   "cell_type": "code",
   "execution_count": 246,
   "id": "7545d3a2",
   "metadata": {},
   "outputs": [
    {
     "data": {
      "text/plain": [
       "count    290968.000000\n",
       "mean        255.852830\n",
       "std         516.721896\n",
       "min           0.000000\n",
       "25%           0.000000\n",
       "50%         138.798284\n",
       "75%         314.609445\n",
       "max       23595.708357\n",
       "Name: total_labor_income, dtype: float64"
      ]
     },
     "execution_count": 246,
     "metadata": {},
     "output_type": "execute_result"
    }
   ],
   "source": [
    "df['total_labor_income'].describe()"
   ]
  },
  {
   "cell_type": "code",
   "execution_count": 248,
   "id": "d3def650",
   "metadata": {},
   "outputs": [
    {
     "data": {
      "image/png": "[encoded data removed]",
      "text/plain": [
       "<Figure size 800x600 with 1 Axes>"
      ]
     },
     "metadata": {},
     "output_type": "display_data"
    }
   ],
   "source": [
    "plt.figure(figsize=(8, 6))\n",
    "plt.boxplot(df['total_labor_income'])\n",
    "plt.title('Boxplot of Feature (Matplotlib)')\n",
    "plt.ylabel('Values')\n",
    "plt.show()"
   ]
  }
 ],
 "metadata": {
  "kernelspec": {
   "display_name": "base",
   "language": "python",
   "name": "python3"
  },
  "language_info": {
   "codemirror_mode": {
    "name": "ipython",
    "version": 3
   },
   "file_extension": ".py",
   "mimetype": "text/x-python",
   "name": "python",
   "nbconvert_exporter": "python",
   "pygments_lexer": "ipython3",
   "version": "3.12.4"
  }
 },
 "nbformat": 4,
 "nbformat_minor": 5
}
